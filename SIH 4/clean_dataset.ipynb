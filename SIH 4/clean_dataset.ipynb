{
 "cells": [
  {
   "cell_type": "code",
   "execution_count": 3,
   "id": "261d56c4",
   "metadata": {},
   "outputs": [],
   "source": [
    "import pandas as pd\n",
    "import numpy as np\n",
    "import matplotlib.pyplot as plt\n",
    "import seaborn as sns"
   ]
  },
  {
   "cell_type": "code",
   "execution_count": 4,
   "id": "cde1d844",
   "metadata": {},
   "outputs": [
    {
     "data": {
      "text/html": [
       "<div>\n",
       "<style scoped>\n",
       "    .dataframe tbody tr th:only-of-type {\n",
       "        vertical-align: middle;\n",
       "    }\n",
       "\n",
       "    .dataframe tbody tr th {\n",
       "        vertical-align: top;\n",
       "    }\n",
       "\n",
       "    .dataframe thead th {\n",
       "        text-align: right;\n",
       "    }\n",
       "</style>\n",
       "<table border=\"1\" class=\"dataframe\">\n",
       "  <thead>\n",
       "    <tr style=\"text-align: right;\">\n",
       "      <th></th>\n",
       "      <th>Project_ID</th>\n",
       "      <th>Date</th>\n",
       "      <th>Month</th>\n",
       "      <th>Year</th>\n",
       "      <th>Location</th>\n",
       "      <th>Region</th>\n",
       "      <th>Tower_Type</th>\n",
       "      <th>Substation_Type</th>\n",
       "      <th>Budget</th>\n",
       "      <th>Cement_tons</th>\n",
       "      <th>Steel_tons</th>\n",
       "      <th>Wires_tons</th>\n",
       "      <th>Tax_percent</th>\n",
       "      <th>Essential_Rank_Cement</th>\n",
       "      <th>Essential_Rank_Steel</th>\n",
       "      <th>Essential_Rank_Wires</th>\n",
       "      <th>Month_sin</th>\n",
       "      <th>Month_cos</th>\n",
       "    </tr>\n",
       "  </thead>\n",
       "  <tbody>\n",
       "    <tr>\n",
       "      <th>0</th>\n",
       "      <td>20000</td>\n",
       "      <td>2023-01-01</td>\n",
       "      <td>1</td>\n",
       "      <td>2023</td>\n",
       "      <td>Bangalore</td>\n",
       "      <td>south</td>\n",
       "      <td>765kV Monopole</td>\n",
       "      <td>Gas insulated</td>\n",
       "      <td>236.98</td>\n",
       "      <td>106.181</td>\n",
       "      <td>26.072</td>\n",
       "      <td>18.420</td>\n",
       "      <td>17.77</td>\n",
       "      <td>1</td>\n",
       "      <td>1</td>\n",
       "      <td>2</td>\n",
       "      <td>0.500000</td>\n",
       "      <td>8.660254e-01</td>\n",
       "    </tr>\n",
       "    <tr>\n",
       "      <th>1</th>\n",
       "      <td>20000</td>\n",
       "      <td>2023-02-01</td>\n",
       "      <td>2</td>\n",
       "      <td>2023</td>\n",
       "      <td>Bangalore</td>\n",
       "      <td>south</td>\n",
       "      <td>765kV Monopole</td>\n",
       "      <td>Gas insulated</td>\n",
       "      <td>236.98</td>\n",
       "      <td>124.959</td>\n",
       "      <td>30.274</td>\n",
       "      <td>21.035</td>\n",
       "      <td>17.77</td>\n",
       "      <td>1</td>\n",
       "      <td>1</td>\n",
       "      <td>2</td>\n",
       "      <td>0.866025</td>\n",
       "      <td>5.000000e-01</td>\n",
       "    </tr>\n",
       "    <tr>\n",
       "      <th>2</th>\n",
       "      <td>20000</td>\n",
       "      <td>2023-03-01</td>\n",
       "      <td>3</td>\n",
       "      <td>2023</td>\n",
       "      <td>Bangalore</td>\n",
       "      <td>south</td>\n",
       "      <td>765kV Monopole</td>\n",
       "      <td>Gas insulated</td>\n",
       "      <td>236.98</td>\n",
       "      <td>143.880</td>\n",
       "      <td>38.091</td>\n",
       "      <td>25.831</td>\n",
       "      <td>17.77</td>\n",
       "      <td>1</td>\n",
       "      <td>1</td>\n",
       "      <td>2</td>\n",
       "      <td>1.000000</td>\n",
       "      <td>6.123234e-17</td>\n",
       "    </tr>\n",
       "    <tr>\n",
       "      <th>3</th>\n",
       "      <td>20000</td>\n",
       "      <td>2023-04-01</td>\n",
       "      <td>4</td>\n",
       "      <td>2023</td>\n",
       "      <td>Bangalore</td>\n",
       "      <td>south</td>\n",
       "      <td>765kV Monopole</td>\n",
       "      <td>Gas insulated</td>\n",
       "      <td>236.98</td>\n",
       "      <td>165.214</td>\n",
       "      <td>40.052</td>\n",
       "      <td>26.474</td>\n",
       "      <td>17.77</td>\n",
       "      <td>1</td>\n",
       "      <td>1</td>\n",
       "      <td>2</td>\n",
       "      <td>0.866025</td>\n",
       "      <td>-5.000000e-01</td>\n",
       "    </tr>\n",
       "    <tr>\n",
       "      <th>4</th>\n",
       "      <td>20000</td>\n",
       "      <td>2023-05-01</td>\n",
       "      <td>5</td>\n",
       "      <td>2023</td>\n",
       "      <td>Bangalore</td>\n",
       "      <td>south</td>\n",
       "      <td>765kV Monopole</td>\n",
       "      <td>Gas insulated</td>\n",
       "      <td>236.98</td>\n",
       "      <td>178.622</td>\n",
       "      <td>42.717</td>\n",
       "      <td>29.170</td>\n",
       "      <td>17.77</td>\n",
       "      <td>1</td>\n",
       "      <td>1</td>\n",
       "      <td>2</td>\n",
       "      <td>0.500000</td>\n",
       "      <td>-8.660254e-01</td>\n",
       "    </tr>\n",
       "  </tbody>\n",
       "</table>\n",
       "</div>"
      ],
      "text/plain": [
       "   Project_ID        Date  Month  Year   Location Region      Tower_Type  \\\n",
       "0       20000  2023-01-01      1  2023  Bangalore  south  765kV Monopole   \n",
       "1       20000  2023-02-01      2  2023  Bangalore  south  765kV Monopole   \n",
       "2       20000  2023-03-01      3  2023  Bangalore  south  765kV Monopole   \n",
       "3       20000  2023-04-01      4  2023  Bangalore  south  765kV Monopole   \n",
       "4       20000  2023-05-01      5  2023  Bangalore  south  765kV Monopole   \n",
       "\n",
       "  Substation_Type  Budget  Cement_tons  Steel_tons  Wires_tons  Tax_percent  \\\n",
       "0   Gas insulated  236.98      106.181      26.072      18.420        17.77   \n",
       "1   Gas insulated  236.98      124.959      30.274      21.035        17.77   \n",
       "2   Gas insulated  236.98      143.880      38.091      25.831        17.77   \n",
       "3   Gas insulated  236.98      165.214      40.052      26.474        17.77   \n",
       "4   Gas insulated  236.98      178.622      42.717      29.170        17.77   \n",
       "\n",
       "   Essential_Rank_Cement  Essential_Rank_Steel  Essential_Rank_Wires  \\\n",
       "0                      1                     1                     2   \n",
       "1                      1                     1                     2   \n",
       "2                      1                     1                     2   \n",
       "3                      1                     1                     2   \n",
       "4                      1                     1                     2   \n",
       "\n",
       "   Month_sin     Month_cos  \n",
       "0   0.500000  8.660254e-01  \n",
       "1   0.866025  5.000000e-01  \n",
       "2   1.000000  6.123234e-17  \n",
       "3   0.866025 -5.000000e-01  \n",
       "4   0.500000 -8.660254e-01  "
      ]
     },
     "execution_count": 4,
     "metadata": {},
     "output_type": "execute_result"
    }
   ],
   "source": [
    "df = pd.read_csv('powergrid_projects.csv',index_col=0 )\n",
    "df.head()"
   ]
  },
  {
   "cell_type": "code",
   "execution_count": 36,
   "id": "dc1ff0ed",
   "metadata": {},
   "outputs": [
    {
     "name": "stdout",
     "output_type": "stream",
     "text": [
      "<class 'pandas.core.frame.DataFrame'>\n",
      "Index: 18000 entries, 0 to 17999\n",
      "Data columns (total 18 columns):\n",
      " #   Column                 Non-Null Count  Dtype         \n",
      "---  ------                 --------------  -----         \n",
      " 0   Project_ID             18000 non-null  int64         \n",
      " 1   Date                   18000 non-null  datetime64[ns]\n",
      " 2   Year                   18000 non-null  int64         \n",
      " 3   Location               18000 non-null  object        \n",
      " 4   Region                 18000 non-null  object        \n",
      " 5   Tower_Type             18000 non-null  object        \n",
      " 6   Substation_Type        18000 non-null  object        \n",
      " 7   Budget                 18000 non-null  float64       \n",
      " 8   Cement_tons            18000 non-null  float64       \n",
      " 9   Steel_tons             18000 non-null  float64       \n",
      " 10  Wires_tons             18000 non-null  float64       \n",
      " 11  Tax_percent            18000 non-null  float64       \n",
      " 12  Essential_Rank_Cement  18000 non-null  int64         \n",
      " 13  Essential_Rank_Steel   18000 non-null  int64         \n",
      " 14  Essential_Rank_Wires   18000 non-null  int64         \n",
      " 15  Month                  18000 non-null  int64         \n",
      " 16  Month_sin              18000 non-null  float64       \n",
      " 17  Month_cos              18000 non-null  float64       \n",
      "dtypes: datetime64[ns](1), float64(7), int64(6), object(4)\n",
      "memory usage: 2.6+ MB\n"
     ]
    }
   ],
   "source": [
    "df.info()"
   ]
  },
  {
   "cell_type": "code",
   "execution_count": null,
   "id": "8bf78dc2",
   "metadata": {},
   "outputs": [],
   "source": [
    "# df['Date'] = pd.to_datetime(df['Date'])"
   ]
  },
  {
   "cell_type": "code",
   "execution_count": null,
   "id": "fb491f66",
   "metadata": {},
   "outputs": [],
   "source": [
    "# df.insert(loc = df.columns.get_loc('Month')+1, column='Year', value=df.Month.dt.year)"
   ]
  },
  {
   "cell_type": "code",
   "execution_count": null,
   "id": "974b5d57",
   "metadata": {},
   "outputs": [],
   "source": [
    "# df.rename(columns={'Month':'Date'}, inplace=True)"
   ]
  },
  {
   "cell_type": "code",
   "execution_count": null,
   "id": "9b60aa5f",
   "metadata": {},
   "outputs": [],
   "source": [
    "# df = df.drop(columns=['Month'], axis=0)\n",
    "# df.insert(df.columns.get_loc('Date')+1, column='Month', value=df['Date'].dt.month)"
   ]
  },
  {
   "cell_type": "code",
   "execution_count": null,
   "id": "c78fd702",
   "metadata": {},
   "outputs": [],
   "source": [
    "# df['Month_sin'] = np.sin(2*np.pi*df['Month']/12)\n",
    "# df['Month_cos'] = np.cos(2*np.pi*df['Month']/12)"
   ]
  },
  {
   "cell_type": "code",
   "execution_count": 5,
   "id": "db190ed0",
   "metadata": {},
   "outputs": [],
   "source": [
    "# Lag features\n",
    "for lag in [1, 2, 3]:\n",
    "    for mat in ['Cement_tons', 'Steel_tons', 'Wires_tons']:\n",
    "        df[f'{mat}_lag{lag}'] = df.groupby('Project_ID')[mat].shift(lag)\n",
    "\n",
    "# Rolling features\n",
    "for window in [3, 6]:\n",
    "    for mat in ['Cement_tons', 'Steel_tons', 'Wires_tons']:\n",
    "        df[f'{mat}_roll{window}'] = df.groupby('Project_ID')[mat].transform(lambda x: x.rolling(window, min_periods=1).mean())\n",
    "\n",
    "df.fillna(0, inplace=True)\n"
   ]
  },
  {
   "cell_type": "code",
   "execution_count": 7,
   "id": "746a2eeb",
   "metadata": {},
   "outputs": [],
   "source": [
    "df.to_csv('powergrid_projects.csv')"
   ]
  },
  {
   "cell_type": "code",
   "execution_count": 8,
   "id": "bb789edf",
   "metadata": {},
   "outputs": [
    {
     "data": {
      "text/plain": [
       "array(['Bangalore', 'Chennai', 'Kolkata', 'Bhopal', 'Delhi', 'Jaipur',\n",
       "       'Mumbai', 'Hyderabad', 'Ahmedabad', 'Patna', 'Lucknow', 'Srinagar',\n",
       "       'Chandigarh', 'Raipur', 'Dehradun'], dtype=object)"
      ]
     },
     "execution_count": 8,
     "metadata": {},
     "output_type": "execute_result"
    }
   ],
   "source": [
    "df.Location.unique()"
   ]
  },
  {
   "cell_type": "code",
   "execution_count": null,
   "id": "f44d1c42",
   "metadata": {},
   "outputs": [],
   "source": []
  }
 ],
 "metadata": {
  "kernelspec": {
   "display_name": "Python 3",
   "language": "python",
   "name": "python3"
  },
  "language_info": {
   "codemirror_mode": {
    "name": "ipython",
    "version": 3
   },
   "file_extension": ".py",
   "mimetype": "text/x-python",
   "name": "python",
   "nbconvert_exporter": "python",
   "pygments_lexer": "ipython3",
   "version": "3.13.5"
  }
 },
 "nbformat": 4,
 "nbformat_minor": 5
}
